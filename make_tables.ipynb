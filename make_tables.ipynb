{
 "cells": [
  {
   "cell_type": "code",
   "execution_count": 1,
   "id": "0915c118-671c-4d86-96b0-6b454a36eea6",
   "metadata": {},
   "outputs": [],
   "source": [
    "import pandas as pd\n",
    "import numpy as np"
   ]
  },
  {
   "cell_type": "code",
   "execution_count": 2,
   "id": "5860969d-d539-4a4f-b34e-ec75ecdd4492",
   "metadata": {},
   "outputs": [],
   "source": [
    "#dir_tbl = 'make_tables/'\n",
    "dir_tbl = 'data_tables/'"
   ]
  },
  {
   "cell_type": "code",
   "execution_count": 3,
   "id": "60c0da10-e531-44ed-af42-72b77b455ca8",
   "metadata": {},
   "outputs": [
    {
     "name": "stderr",
     "output_type": "stream",
     "text": [
      "/scratch/smmortazavi/job_34368586/ipykernel_880547/1272275152.py:2: DtypeWarning: Columns (24,25,47,48,49,50,51,52,53,54,58,59,60,61,62,63,64,65,70,71,72,73,74,75,76,80,81,82,83,84,85,86,87,91,92,93,94,95,96,97,98,158,159,160,161,170,171,172,173,174,175,176,177,218,224,229,230,236,241,242,247,248,253,254,259,260,265,266,271,272,277,278,283,284) have mixed types. Specify dtype option on import or set low_memory=False.\n",
      "  df = pd.read_table(file_name, sep='\\t', header=0)\n"
     ]
    }
   ],
   "source": [
    "file_name = 'test.tsv'\n",
    "df = pd.read_table(file_name, sep='\\t', header=0)"
   ]
  },
  {
   "cell_type": "code",
   "execution_count": 19,
   "id": "122dd594-3afe-44c6-bccc-bbaf14ddd28a",
   "metadata": {},
   "outputs": [
    {
     "data": {
      "text/plain": [
       "1295      [REACH000544:-0.52|3.24:-37|123:-37|7x123|8, R...\n",
       "65588              [REACH000409:0.15|-5.72:0|-59:-59|2x0|7]\n",
       "80852     [REACH000426:-0.09|-8.08:-53|-116:-116|2x-53|5...\n",
       "117034          [REACH000578:-0.41|-6.08:-6|-54:-54|2x-6|4]\n",
       "145406    [REACH000555:-3.59|0.66:-180|18:-180|2x18|7, R...\n",
       "266086    [REACH000411:0.65|3.92:-7|270:-7|5x270|2, REAC...\n",
       "266091    [REACH000098:0.85|3.58:-25|66:-25|1x66|2, REAC...\n",
       "277956         [REACH000513:-14.92|-0.88:-87|-7:-87|2x-7|7]\n",
       "331578             [REACH000435:-8.81|0.20:-64|0:-64|2x0|4]\n",
       "368633    [REACH000001:0.13|-5.41:0|-52:-52|2x0|13, REAC...\n",
       "368634          [REACH000524:-5.66|-0.20:-57|-4:-57|2x-4|1]\n",
       "394080    [REACH000404:-3.28|-0.97:-53|-18:-53|2x-18|2, ...\n",
       "394247            [REACH000476:0.07|-7.27:0|-62:-62|2x0|14]\n",
       "491849           [REACH000512:-7.45|0.08:-61|-1:-61|2x-1|7]\n",
       "506863    [REACH000234:-5.71|0.16:-70|0:-70|7x0|1, REACH...\n",
       "506885    [REACH000161:0.27|-7.34:0|-75:-75|2x0|2, REACH...\n",
       "567984          [REACH000409:-3.66|-0.32:-67|-9:-67|2x-9|2]\n",
       "623821            [REACH000226:0.15|-8.20:0|-63:-63|2x0|22]\n",
       "680559          [REACH000681:-0.31|-7.41:-7|-56:-56|2x-7|2]\n",
       "692324    [REACH000001:-5.60|-0.87:-89|-19:-89|3x-19|6, ...\n",
       "716382    [REACH000419:0.30|-3.16:0|-90:-90|7x0|7, REACH...\n",
       "716567        [REACH000404:-3.07|-0.38:-74|-13:-74|2x-13|2]\n",
       "717116       [REACH000107:-0.02|-14.91:-2|-168:-168|2x-2|3]\n",
       "747460    [REACH000107:-5.08|0.08:-144|0:-144|2x0|6, REA...\n",
       "816364           [REACH000516:-3.77|0.37:-119|0:-119|2x0|5]\n",
       "849577          [REACH000604:0.04|-18.84:0|-106:-106|2x0|6]\n",
       "Name: LZS3_SAMPLES_SUPP2_Q, dtype: object"
      ]
     },
     "metadata": {},
     "output_type": "display_data"
    }
   ],
   "source": [
    "display(df.loc[(df[f'X_{ft}'] == 1) & ~(df[samples_col].isna())][samples_col].str.split(',', expand=False))"
   ]
  },
  {
   "cell_type": "code",
   "execution_count": 4,
   "id": "477b7cb1-27dd-4fe4-896b-9daf3f014f22",
   "metadata": {},
   "outputs": [],
   "source": [
    "def expand_lzs(row, col):\n",
    "    samples = [x.split(':')[0] for x in row[col].split(',')]\n",
    "    zss = [x.split(':')[1] for x in row[col].split(',')]\n",
    "    gbs = [x.split(':')[2] for x in row[col].split(',')]\n",
    "    supps = [x.split(':')[3] for x in row[col].split(',')]\n",
    "    return ','.join(samples), ','.join(zss), ','.join(gbs), ','.join(supps)"
   ]
  },
  {
   "cell_type": "code",
   "execution_count": 5,
   "id": "e570904c-e055-42cb-a93a-5ab6b686d13b",
   "metadata": {},
   "outputs": [
    {
     "name": "stdout",
     "output_type": "stream",
     "text": [
      "PLIp9_DEV_BR_GENE_10_cds\n",
      "PLIp9_DEV_BR_GENE_10_utr\n",
      "PLIp9_DEV_BR_GENE_10_intron\n",
      "DEV_BR_GENE_10_cds\n",
      "DEV_BR_GENE_10_utr\n",
      "DEV_BR_GENE_10_intron\n",
      "PLIp9_cds\n",
      "PLIp9_utr\n",
      "PLIp9_intron\n",
      "LOWPLI_cds\n",
      "LOWPLI_utr\n",
      "LOWPLI_intron\n",
      "intergenic\n",
      "genic\n",
      "genic_cds\n",
      "genic_utr\n",
      "genic_intron\n"
     ]
    }
   ],
   "source": [
    "zs_thr = 3\n",
    "supp_thr = 2\n",
    "#fts = ['FDR_ASD_cds', 'PLIp9_DEV_BR_GENE_10_cds', 'DEV_BR_GENE_10_cds', 'PLIp9_cds', 'LOWPLI_cds', 'PLIp9_utr']\n",
    "fts = ['PLIp9_DEV_BR_GENE_10_cds', 'PLIp9_DEV_BR_GENE_10_utr', 'PLIp9_DEV_BR_GENE_10_intron', \n",
    "       'DEV_BR_GENE_10_cds', 'DEV_BR_GENE_10_utr', 'DEV_BR_GENE_10_intron', \n",
    "       'PLIp9_cds', 'PLIp9_utr', 'PLIp9_intron', \n",
    "       'LOWPLI_cds', 'LOWPLI_utr', 'LOWPLI_intron', 'intergenic', 'genic', 'genic_cds', 'genic_utr', 'genic_intron']\n",
    "\n",
    "cols = ['CHROM', 'POS', 'END', 'ID', 'GENCODE', 'PERIOD', 'MEAN_GB', 'STD_GB', 'SN_GB', 'SYMBOL', 'GENES_PLI', 'MAX_PLI', \n",
    "        'MAX_PLI_GENE', 'Consequence', f'LZS{zs_thr}_SAMPLES_SUPP{supp_thr}_Q', f'case_LZS{zs_thr}_SAMPLES_SUPP{supp_thr}_Q']\n",
    "#REACH000544:-0.52|3.24:-37|123:-37|7x123|8\n",
    "col_exp = f'LZS{zs_thr}_SAMPLES_SUPP{supp_thr}_Q'\n",
    "new_cols = ['Samples', 'Z-scores', 'base_pair_deviation', 'read_supp']\n",
    "\n",
    "for ft in fts:\n",
    "    print(ft)\n",
    "    samples_col = f'LZS{zs_thr}_SAMPLES_SUPP{supp_thr}_Q'\n",
    "    this_df = df.loc[(df[f'X_{ft}'] == 1) & ~(df[samples_col].isna())][cols]\n",
    "    this_df[new_cols] = this_df.apply(lambda row: expand_lzs(row, col_exp), axis=1, result_type='expand')\n",
    "    file_name = dir_tbl + f'table_{ft}_LZS{zs_thr}_SUPP{supp_thr}.tsv'\n",
    "    this_df.to_csv(file_name, sep='\\t', header=True, index=False)"
   ]
  }
 ],
 "metadata": {
  "kernelspec": {
   "display_name": "Python 3 (ipykernel)",
   "language": "python",
   "name": "python3"
  },
  "language_info": {
   "codemirror_mode": {
    "name": "ipython",
    "version": 3
   },
   "file_extension": ".py",
   "mimetype": "text/x-python",
   "name": "python",
   "nbconvert_exporter": "python",
   "pygments_lexer": "ipython3",
   "version": "3.10.8"
  }
 },
 "nbformat": 4,
 "nbformat_minor": 5
}
